{
 "cells": [
  {
   "cell_type": "markdown",
   "id": "f3d6c116",
   "metadata": {},
   "source": [
    "\n",
    "###### The problem statement is to develop a machine learning model that predicts the personality type of an individual based on their forum posts."
   ]
  },
  {
   "cell_type": "markdown",
   "id": "a58502ec",
   "metadata": {},
   "source": [
    "## Importing Library"
   ]
  },
  {
   "cell_type": "code",
   "execution_count": 1,
   "id": "45fa9b12",
   "metadata": {
    "_cell_guid": "b1076dfc-b9ad-4769-8c92-a6c4dae69d19",
    "_uuid": "8f2839f25d086af736a60e9eeb907d3b93b6e0e5",
    "execution": {
     "iopub.execute_input": "2022-08-15T09:38:50.160138Z",
     "iopub.status.busy": "2022-08-15T09:38:50.159464Z",
     "iopub.status.idle": "2022-08-15T09:38:50.188725Z",
     "shell.execute_reply": "2022-08-15T09:38:50.187820Z"
    },
    "papermill": {
     "duration": 0.04667,
     "end_time": "2022-08-15T09:38:50.192324",
     "exception": false,
     "start_time": "2022-08-15T09:38:50.145654",
     "status": "completed"
    },
    "tags": []
   },
   "outputs": [],
   "source": [
    "\n",
    "import numpy as np \n",
    "import pandas as pd \n",
    "import os\n",
    "\n",
    "import re\n",
    "from bs4 import BeautifulSoup\n",
    "import string\n",
    "from nltk.stem import WordNetLemmatizer\n",
    "from nltk.corpus import stopwords\n",
    "import nltk\n",
    "nltk.download('stopwords')\n",
    "nltk.download('wordnet')\n",
    "\n",
    "from sklearn.pipeline import Pipeline\n",
    "from sklearn.feature_extraction.text import CountVectorizer\n",
    "from sklearn.model_selection import cross_validate\n",
    "from sklearn.model_selection import StratifiedKFold\n",
    "from sklearn.linear_model import LogisticRegression"
   ]
  },
  {
   "cell_type": "code",
   "execution_count": 2,
   "id": "5b291461",
   "metadata": {},
   "outputs": [],
   "source": [
    "train_data=pd.read_csv('mbti_1.csv')\n",
    "forum_data=pd.read_csv('ForumMessages.csv')"
   ]
  },
  {
   "cell_type": "code",
   "execution_count": 3,
   "id": "342fd749",
   "metadata": {},
   "outputs": [
    {
     "data": {
      "text/html": [
       "<div>\n",
       "<style scoped>\n",
       "    .dataframe tbody tr th:only-of-type {\n",
       "        vertical-align: middle;\n",
       "    }\n",
       "\n",
       "    .dataframe tbody tr th {\n",
       "        vertical-align: top;\n",
       "    }\n",
       "\n",
       "    .dataframe thead th {\n",
       "        text-align: right;\n",
       "    }\n",
       "</style>\n",
       "<table border=\"1\" class=\"dataframe\">\n",
       "  <thead>\n",
       "    <tr style=\"text-align: right;\">\n",
       "      <th></th>\n",
       "      <th>type</th>\n",
       "      <th>posts</th>\n",
       "    </tr>\n",
       "  </thead>\n",
       "  <tbody>\n",
       "    <tr>\n",
       "      <th>0</th>\n",
       "      <td>INFJ</td>\n",
       "      <td>'http://www.youtube.com/watch?v=qsXHcwe3krw|||...</td>\n",
       "    </tr>\n",
       "    <tr>\n",
       "      <th>1</th>\n",
       "      <td>ENTP</td>\n",
       "      <td>'I'm finding the lack of me in these posts ver...</td>\n",
       "    </tr>\n",
       "    <tr>\n",
       "      <th>2</th>\n",
       "      <td>INTP</td>\n",
       "      <td>'Good one  _____   https://www.youtube.com/wat...</td>\n",
       "    </tr>\n",
       "    <tr>\n",
       "      <th>3</th>\n",
       "      <td>INTJ</td>\n",
       "      <td>'Dear INTP,   I enjoyed our conversation the o...</td>\n",
       "    </tr>\n",
       "    <tr>\n",
       "      <th>4</th>\n",
       "      <td>ENTJ</td>\n",
       "      <td>'You're fired.|||That's another silly misconce...</td>\n",
       "    </tr>\n",
       "  </tbody>\n",
       "</table>\n",
       "</div>"
      ],
      "text/plain": [
       "   type                                              posts\n",
       "0  INFJ  'http://www.youtube.com/watch?v=qsXHcwe3krw|||...\n",
       "1  ENTP  'I'm finding the lack of me in these posts ver...\n",
       "2  INTP  'Good one  _____   https://www.youtube.com/wat...\n",
       "3  INTJ  'Dear INTP,   I enjoyed our conversation the o...\n",
       "4  ENTJ  'You're fired.|||That's another silly misconce..."
      ]
     },
     "execution_count": 3,
     "metadata": {},
     "output_type": "execute_result"
    }
   ],
   "source": [
    "train_data.head()"
   ]
  },
  {
   "cell_type": "code",
   "execution_count": 4,
   "id": "99b0f358",
   "metadata": {
    "scrolled": true
   },
   "outputs": [
    {
     "data": {
      "text/plain": [
       "\"'http://www.youtube.com/watch?v=qsXHcwe3krw|||http://41.media.tumblr.com/tumblr_lfouy03PMA1qa1rooo1_500.jpg|||enfp and intj moments  https://www.youtube.com/watch?v=iz7lE1g4XM4  sportscenter not top ten plays  https://www.youtube.com/watch?v=uCdfze1etec  pranks|||What has been the most life-changing experience in your life?|||http://www.youtube.com/watch?v=vXZeYwwRDw8   http://www.youtube.com/watch?v=u8ejam5DP3E  On repeat for most of today.|||May the PerC Experience immerse you.|||The last thing my INFJ friend posted on his facebook before committing suicide the next day. Rest in peace~   http://vimeo.com/22842206|||Hello ENFJ7. Sorry to hear of your distress. It's only natural for a relationship to not be perfection all the time in every moment of existence. Try to figure the hard times as times of growth, as...|||84389  84390  http://wallpaperpassion.com/upload/23700/friendship-boy-and-girl-wallpaper.jpg  http://assets.dornob.com/wp-content/uploads/2010/04/round-home-design.jpg ...|||Welcome and stuff.|||http://playeressence.com/wp-content/uploads/2013/08/RED-red-the-pokemon-master-32560474-450-338.jpg  Game. Set. Match.|||Prozac, wellbrutin, at least thirty minutes of moving your legs (and I don't mean moving them while sitting in your same desk chair), weed in moderation (maybe try edibles as a healthier alternative...|||Basically come up with three items you've determined that each type (or whichever types you want to do) would more than likely use, given each types' cognitive functions and whatnot, when left by...|||All things in moderation.  Sims is indeed a video game, and a good one at that. Note: a good one at that is somewhat subjective in that I am not completely promoting the death of any given Sim...|||Dear ENFP:  What were your favorite video games growing up and what are your now, current favorite video games? :cool:|||https://www.youtube.com/watch?v=QyPqT8umzmY|||It appears to be too late. :sad:|||There's someone out there for everyone.|||Wait... I thought confidence was a good thing.|||I just cherish the time of solitude b/c i revel within my inner world more whereas most other time i'd be workin... just enjoy the me time while you can. Don't worry, people will always be around to...|||Yo entp ladies... if you're into a complimentary personality,well, hey.|||... when your main social outlet is xbox live conversations and even then you verbally fatigue quickly.|||http://www.youtube.com/watch?v=gDhy7rdfm14  I really dig the part from 1:46 to 2:50|||http://www.youtube.com/watch?v=msqXffgh7b8|||Banned because this thread requires it of me.|||Get high in backyard, roast and eat marshmellows in backyard while conversing over something intellectual, followed by massages and kisses.|||http://www.youtube.com/watch?v=Mw7eoU3BMbE|||http://www.youtube.com/watch?v=4V2uYORhQOk|||http://www.youtube.com/watch?v=SlVmgFQQ0TI|||Banned for too many b's in that sentence. How could you! Think of the B!|||Banned for watching movies in the corner with the dunces.|||Banned because Health class clearly taught you nothing about peer pressure.|||Banned for a whole host of reasons!|||http://www.youtube.com/watch?v=IRcrv41hgz4|||1) Two baby deer on left and right munching on a beetle in the middle.  2) Using their own blood, two cavemen diary today's latest happenings on their designated cave diary wall.  3) I see it as...|||a pokemon world  an infj society  everyone becomes an optimist|||49142|||http://www.youtube.com/watch?v=ZRCEq_JFeFM|||http://discovermagazine.com/2012/jul-aug/20-things-you-didnt-know-about-deserts/desert.jpg|||http://oyster.ignimgs.com/mediawiki/apis.ign.com/pokemon-silver-version/d/dd/Ditto.gif|||http://www.serebii.net/potw-dp/Scizor.jpg|||Not all artists are artists because they draw. It's the idea that counts in forming something of your own... like a signature.|||Welcome to the robot ranks, person who downed my self-esteem cuz I'm not an avid signature artist like herself. :proud:|||Banned for taking all the room under my bed. Ya gotta learn to share with the roaches.|||http://www.youtube.com/watch?v=w8IgImn57aQ|||Banned for being too much of a thundering, grumbling kind of storm... yep.|||Ahh... old high school music I haven't heard in ages.   http://www.youtube.com/watch?v=dcCRUPCdB1w|||I failed a public speaking class a few years ago and I've sort of learned what I could do better were I to be in that position again. A big part of my failure was just overloading myself with too...|||I like this person's mentality. He's a confirmed INTJ by the way. http://www.youtube.com/watch?v=hGKLI-GEc6M|||Move to the Denver area and start a new life for myself.'\""
      ]
     },
     "execution_count": 4,
     "metadata": {},
     "output_type": "execute_result"
    }
   ],
   "source": [
    "train_data['posts'][0]"
   ]
  },
  {
   "cell_type": "code",
   "execution_count": 83,
   "id": "a16950b9",
   "metadata": {},
   "outputs": [
    {
     "data": {
      "text/html": [
       "<div>\n",
       "<style scoped>\n",
       "    .dataframe tbody tr th:only-of-type {\n",
       "        vertical-align: middle;\n",
       "    }\n",
       "\n",
       "    .dataframe tbody tr th {\n",
       "        vertical-align: top;\n",
       "    }\n",
       "\n",
       "    .dataframe thead th {\n",
       "        text-align: right;\n",
       "    }\n",
       "</style>\n",
       "<table border=\"1\" class=\"dataframe\">\n",
       "  <thead>\n",
       "    <tr style=\"text-align: right;\">\n",
       "      <th></th>\n",
       "      <th>Unnamed: 0</th>\n",
       "      <th>Id</th>\n",
       "      <th>ForumTopicId</th>\n",
       "      <th>PostUserId</th>\n",
       "      <th>PostDate</th>\n",
       "      <th>ReplyToForumMessageId</th>\n",
       "      <th>Message</th>\n",
       "      <th>Medal</th>\n",
       "      <th>MedalAwardDate</th>\n",
       "    </tr>\n",
       "  </thead>\n",
       "  <tbody>\n",
       "    <tr>\n",
       "      <th>0</th>\n",
       "      <td>8427</td>\n",
       "      <td>784283</td>\n",
       "      <td>60581</td>\n",
       "      <td>4701687</td>\n",
       "      <td>03/24/2020 04:42:45</td>\n",
       "      <td>NaN</td>\n",
       "      <td>&lt;p&gt;&lt;strong&gt;Think About The Data&lt;/strong&gt;&lt;/p&gt;\\n...</td>\n",
       "      <td>3.0</td>\n",
       "      <td>2019-08-03</td>\n",
       "    </tr>\n",
       "    <tr>\n",
       "      <th>1</th>\n",
       "      <td>9564</td>\n",
       "      <td>784295</td>\n",
       "      <td>60581</td>\n",
       "      <td>4701687</td>\n",
       "      <td>03/24/2020 04:56:27</td>\n",
       "      <td>783670.0</td>\n",
       "      <td>&lt;p&gt;good point!&lt;/p&gt;</td>\n",
       "      <td>3.0</td>\n",
       "      <td>2019-08-03</td>\n",
       "    </tr>\n",
       "    <tr>\n",
       "      <th>2</th>\n",
       "      <td>9579</td>\n",
       "      <td>784298</td>\n",
       "      <td>60581</td>\n",
       "      <td>4701687</td>\n",
       "      <td>03/24/2020 05:02:18</td>\n",
       "      <td>781693.0</td>\n",
       "      <td>&lt;p&gt;Nice thoughts!&lt;/p&gt;</td>\n",
       "      <td>3.0</td>\n",
       "      <td>2019-08-03</td>\n",
       "    </tr>\n",
       "    <tr>\n",
       "      <th>3</th>\n",
       "      <td>13138</td>\n",
       "      <td>784405</td>\n",
       "      <td>60581</td>\n",
       "      <td>4662825</td>\n",
       "      <td>03/24/2020 07:34:31</td>\n",
       "      <td>NaN</td>\n",
       "      <td>&lt;p&gt;All fields that has year data maxes up on 2...</td>\n",
       "      <td>3.0</td>\n",
       "      <td>2019-08-03</td>\n",
       "    </tr>\n",
       "    <tr>\n",
       "      <th>4</th>\n",
       "      <td>19987</td>\n",
       "      <td>787791</td>\n",
       "      <td>60581</td>\n",
       "      <td>3780256</td>\n",
       "      <td>03/27/2020 04:46:14</td>\n",
       "      <td>NaN</td>\n",
       "      <td>&lt;p&gt;The dataset reflects the real estate scenar...</td>\n",
       "      <td>3.0</td>\n",
       "      <td>2019-08-03</td>\n",
       "    </tr>\n",
       "  </tbody>\n",
       "</table>\n",
       "</div>"
      ],
      "text/plain": [
       "   Unnamed: 0      Id  ForumTopicId  PostUserId             PostDate  \\\n",
       "0        8427  784283         60581     4701687  03/24/2020 04:42:45   \n",
       "1        9564  784295         60581     4701687  03/24/2020 04:56:27   \n",
       "2        9579  784298         60581     4701687  03/24/2020 05:02:18   \n",
       "3       13138  784405         60581     4662825  03/24/2020 07:34:31   \n",
       "4       19987  787791         60581     3780256  03/27/2020 04:46:14   \n",
       "\n",
       "   ReplyToForumMessageId                                            Message  \\\n",
       "0                    NaN  <p><strong>Think About The Data</strong></p>\\n...   \n",
       "1               783670.0                                 <p>good point!</p>   \n",
       "2               781693.0                              <p>Nice thoughts!</p>   \n",
       "3                    NaN  <p>All fields that has year data maxes up on 2...   \n",
       "4                    NaN  <p>The dataset reflects the real estate scenar...   \n",
       "\n",
       "   Medal MedalAwardDate  \n",
       "0    3.0     2019-08-03  \n",
       "1    3.0     2019-08-03  \n",
       "2    3.0     2019-08-03  \n",
       "3    3.0     2019-08-03  \n",
       "4    3.0     2019-08-03  "
      ]
     },
     "execution_count": 83,
     "metadata": {},
     "output_type": "execute_result"
    }
   ],
   "source": [
    "forum_data.head()"
   ]
  },
  {
   "cell_type": "code",
   "execution_count": null,
   "id": "0456adb8",
   "metadata": {},
   "outputs": [],
   "source": []
  },
  {
   "cell_type": "markdown",
   "id": "acbc37d4",
   "metadata": {
    "papermill": {
     "duration": 0.010187,
     "end_time": "2022-08-15T09:39:08.226403",
     "exception": false,
     "start_time": "2022-08-15T09:39:08.216216",
     "status": "completed"
    },
    "tags": []
   },
   "source": [
    "# Data Prepartion and Cleaning\n"
   ]
  },
  {
   "cell_type": "code",
   "execution_count": 6,
   "id": "72b4906c",
   "metadata": {
    "execution": {
     "iopub.execute_input": "2022-08-15T09:39:08.250304Z",
     "iopub.status.busy": "2022-08-15T09:39:08.249910Z",
     "iopub.status.idle": "2022-08-15T09:39:08.255277Z",
     "shell.execute_reply": "2022-08-15T09:39:08.254390Z"
    },
    "papermill": {
     "duration": 0.020499,
     "end_time": "2022-08-15T09:39:08.258934",
     "exception": false,
     "start_time": "2022-08-15T09:39:08.238435",
     "status": "completed"
    },
    "tags": []
   },
   "outputs": [],
   "source": [
    "mbti={'I':'Introversion','E':'Extroversion','N':'Intuition','S':'Sensing','T':'Thinking','F':'Feeling','J':'Judging','P':'Perceiving'}"
   ]
  },
  {
   "cell_type": "code",
   "execution_count": 7,
   "id": "8cff4c32",
   "metadata": {},
   "outputs": [
    {
     "data": {
      "text/plain": [
       "(8675, 2)"
      ]
     },
     "execution_count": 7,
     "metadata": {},
     "output_type": "execute_result"
    }
   ],
   "source": [
    "train_data.shape"
   ]
  },
  {
   "cell_type": "code",
   "execution_count": 8,
   "id": "103f2ae8",
   "metadata": {},
   "outputs": [
    {
     "data": {
      "text/plain": [
       "(2042, 9)"
      ]
     },
     "execution_count": 8,
     "metadata": {},
     "output_type": "execute_result"
    }
   ],
   "source": [
    "forum_data.shape"
   ]
  },
  {
   "cell_type": "code",
   "execution_count": null,
   "id": "3ec50b06",
   "metadata": {},
   "outputs": [],
   "source": []
  },
  {
   "cell_type": "code",
   "execution_count": 9,
   "id": "538a337f",
   "metadata": {},
   "outputs": [
    {
     "data": {
      "text/plain": [
       "16"
      ]
     },
     "execution_count": 9,
     "metadata": {},
     "output_type": "execute_result"
    }
   ],
   "source": [
    "train_data['type'].nunique()"
   ]
  },
  {
   "cell_type": "code",
   "execution_count": 10,
   "id": "ac1cfd67",
   "metadata": {
    "execution": {
     "iopub.execute_input": "2022-08-15T09:39:08.412194Z",
     "iopub.status.busy": "2022-08-15T09:39:08.411787Z",
     "iopub.status.idle": "2022-08-15T09:39:08.426019Z",
     "shell.execute_reply": "2022-08-15T09:39:08.424799Z"
    },
    "papermill": {
     "duration": 0.028885,
     "end_time": "2022-08-15T09:39:08.428542",
     "exception": false,
     "start_time": "2022-08-15T09:39:08.399657",
     "status": "completed"
    },
    "scrolled": false,
    "tags": []
   },
   "outputs": [
    {
     "name": "stdout",
     "output_type": "stream",
     "text": [
      "INFP    1832\n",
      "INFJ    1470\n",
      "INTP    1304\n",
      "INTJ    1091\n",
      "ENTP     685\n",
      "ENFP     675\n",
      "ISTP     337\n",
      "ISFP     271\n",
      "ENTJ     231\n",
      "ISTJ     205\n",
      "ENFJ     190\n",
      "ISFJ     166\n",
      "ESTP      89\n",
      "ESFP      48\n",
      "ESFJ      42\n",
      "ESTJ      39\n",
      "Name: type, dtype: int64\n"
     ]
    }
   ],
   "source": [
    "#Now looking at the personality distrubution in the training data\n",
    "type_count=train_data['type'].value_counts()\n",
    "print(type_count)"
   ]
  },
  {
   "cell_type": "markdown",
   "id": "2db71961",
   "metadata": {
    "papermill": {
     "duration": 0.010986,
     "end_time": "2022-08-15T09:39:08.451029",
     "exception": false,
     "start_time": "2022-08-15T09:39:08.440043",
     "status": "completed"
    },
    "tags": []
   },
   "source": [
    "Personality types start descending from the top to bottom"
   ]
  },
  {
   "cell_type": "markdown",
   "id": "b470ce47",
   "metadata": {
    "papermill": {
     "duration": 0.01074,
     "end_time": "2022-08-15T09:39:08.472914",
     "exception": false,
     "start_time": "2022-08-15T09:39:08.462174",
     "status": "completed"
    },
    "tags": []
   },
   "source": [
    "### Looking for missing values in the data"
   ]
  },
  {
   "cell_type": "code",
   "execution_count": 11,
   "id": "b42d112b",
   "metadata": {
    "execution": {
     "iopub.execute_input": "2022-08-15T09:39:08.497373Z",
     "iopub.status.busy": "2022-08-15T09:39:08.496916Z",
     "iopub.status.idle": "2022-08-15T09:39:08.506222Z",
     "shell.execute_reply": "2022-08-15T09:39:08.505137Z"
    },
    "papermill": {
     "duration": 0.02396,
     "end_time": "2022-08-15T09:39:08.508412",
     "exception": false,
     "start_time": "2022-08-15T09:39:08.484452",
     "status": "completed"
    },
    "tags": []
   },
   "outputs": [
    {
     "name": "stdout",
     "output_type": "stream",
     "text": [
      "Missing values in test data: \n",
      "type     0\n",
      "posts    0\n",
      "dtype: int64\n"
     ]
    }
   ],
   "source": [
    "print(\"Missing values in test data: \")\n",
    "print(train_data.isnull().sum())"
   ]
  },
  {
   "cell_type": "code",
   "execution_count": 12,
   "id": "8a22765a",
   "metadata": {},
   "outputs": [
    {
     "data": {
      "text/html": [
       "<div>\n",
       "<style scoped>\n",
       "    .dataframe tbody tr th:only-of-type {\n",
       "        vertical-align: middle;\n",
       "    }\n",
       "\n",
       "    .dataframe tbody tr th {\n",
       "        vertical-align: top;\n",
       "    }\n",
       "\n",
       "    .dataframe thead th {\n",
       "        text-align: right;\n",
       "    }\n",
       "</style>\n",
       "<table border=\"1\" class=\"dataframe\">\n",
       "  <thead>\n",
       "    <tr style=\"text-align: right;\">\n",
       "      <th></th>\n",
       "      <th>Unnamed: 0</th>\n",
       "      <th>Id</th>\n",
       "      <th>ForumTopicId</th>\n",
       "      <th>PostUserId</th>\n",
       "      <th>PostDate</th>\n",
       "      <th>ReplyToForumMessageId</th>\n",
       "      <th>Message</th>\n",
       "      <th>Medal</th>\n",
       "      <th>MedalAwardDate</th>\n",
       "    </tr>\n",
       "  </thead>\n",
       "  <tbody>\n",
       "    <tr>\n",
       "      <th>0</th>\n",
       "      <td>8427</td>\n",
       "      <td>784283</td>\n",
       "      <td>60581</td>\n",
       "      <td>4701687</td>\n",
       "      <td>03/24/2020 04:42:45</td>\n",
       "      <td>NaN</td>\n",
       "      <td>&lt;p&gt;&lt;strong&gt;Think About The Data&lt;/strong&gt;&lt;/p&gt;\\n...</td>\n",
       "      <td>NaN</td>\n",
       "      <td>NaN</td>\n",
       "    </tr>\n",
       "    <tr>\n",
       "      <th>1</th>\n",
       "      <td>9564</td>\n",
       "      <td>784295</td>\n",
       "      <td>60581</td>\n",
       "      <td>4701687</td>\n",
       "      <td>03/24/2020 04:56:27</td>\n",
       "      <td>783670.0</td>\n",
       "      <td>&lt;p&gt;good point!&lt;/p&gt;</td>\n",
       "      <td>NaN</td>\n",
       "      <td>NaN</td>\n",
       "    </tr>\n",
       "    <tr>\n",
       "      <th>2</th>\n",
       "      <td>9579</td>\n",
       "      <td>784298</td>\n",
       "      <td>60581</td>\n",
       "      <td>4701687</td>\n",
       "      <td>03/24/2020 05:02:18</td>\n",
       "      <td>781693.0</td>\n",
       "      <td>&lt;p&gt;Nice thoughts!&lt;/p&gt;</td>\n",
       "      <td>NaN</td>\n",
       "      <td>NaN</td>\n",
       "    </tr>\n",
       "    <tr>\n",
       "      <th>3</th>\n",
       "      <td>13138</td>\n",
       "      <td>784405</td>\n",
       "      <td>60581</td>\n",
       "      <td>4662825</td>\n",
       "      <td>03/24/2020 07:34:31</td>\n",
       "      <td>NaN</td>\n",
       "      <td>&lt;p&gt;All fields that has year data maxes up on 2...</td>\n",
       "      <td>NaN</td>\n",
       "      <td>NaN</td>\n",
       "    </tr>\n",
       "    <tr>\n",
       "      <th>4</th>\n",
       "      <td>19987</td>\n",
       "      <td>787791</td>\n",
       "      <td>60581</td>\n",
       "      <td>3780256</td>\n",
       "      <td>03/27/2020 04:46:14</td>\n",
       "      <td>NaN</td>\n",
       "      <td>&lt;p&gt;The dataset reflects the real estate scenar...</td>\n",
       "      <td>NaN</td>\n",
       "      <td>NaN</td>\n",
       "    </tr>\n",
       "  </tbody>\n",
       "</table>\n",
       "</div>"
      ],
      "text/plain": [
       "   Unnamed: 0      Id  ForumTopicId  PostUserId             PostDate  \\\n",
       "0        8427  784283         60581     4701687  03/24/2020 04:42:45   \n",
       "1        9564  784295         60581     4701687  03/24/2020 04:56:27   \n",
       "2        9579  784298         60581     4701687  03/24/2020 05:02:18   \n",
       "3       13138  784405         60581     4662825  03/24/2020 07:34:31   \n",
       "4       19987  787791         60581     3780256  03/27/2020 04:46:14   \n",
       "\n",
       "   ReplyToForumMessageId                                            Message  \\\n",
       "0                    NaN  <p><strong>Think About The Data</strong></p>\\n...   \n",
       "1               783670.0                                 <p>good point!</p>   \n",
       "2               781693.0                              <p>Nice thoughts!</p>   \n",
       "3                    NaN  <p>All fields that has year data maxes up on 2...   \n",
       "4                    NaN  <p>The dataset reflects the real estate scenar...   \n",
       "\n",
       "   Medal MedalAwardDate  \n",
       "0    NaN            NaN  \n",
       "1    NaN            NaN  \n",
       "2    NaN            NaN  \n",
       "3    NaN            NaN  \n",
       "4    NaN            NaN  "
      ]
     },
     "execution_count": 12,
     "metadata": {},
     "output_type": "execute_result"
    }
   ],
   "source": [
    "forum_data.head()"
   ]
  },
  {
   "cell_type": "code",
   "execution_count": 13,
   "id": "27db28b7",
   "metadata": {
    "execution": {
     "iopub.execute_input": "2022-08-15T09:39:08.533561Z",
     "iopub.status.busy": "2022-08-15T09:39:08.532395Z",
     "iopub.status.idle": "2022-08-15T09:39:08.877479Z",
     "shell.execute_reply": "2022-08-15T09:39:08.876407Z"
    },
    "papermill": {
     "duration": 0.362179,
     "end_time": "2022-08-15T09:39:08.882191",
     "exception": false,
     "start_time": "2022-08-15T09:39:08.520012",
     "status": "completed"
    },
    "tags": []
   },
   "outputs": [
    {
     "name": "stdout",
     "output_type": "stream",
     "text": [
      "Missing values in form data: \n",
      "Unnamed: 0                  0\n",
      "Id                          0\n",
      "ForumTopicId                0\n",
      "PostUserId                  0\n",
      "PostDate                    0\n",
      "ReplyToForumMessageId    1040\n",
      "Message                     4\n",
      "Medal                    1735\n",
      "MedalAwardDate           1731\n",
      "dtype: int64\n"
     ]
    }
   ],
   "source": [
    "print(\"Missing values in form data: \")\n",
    "print(forum_data.isnull().sum())"
   ]
  },
  {
   "cell_type": "code",
   "execution_count": 14,
   "id": "811fde3d",
   "metadata": {},
   "outputs": [
    {
     "data": {
      "text/plain": [
       "3.0    261\n",
       "2.0     29\n",
       "1.0     17\n",
       "Name: Medal, dtype: int64"
      ]
     },
     "execution_count": 14,
     "metadata": {},
     "output_type": "execute_result"
    }
   ],
   "source": [
    "forum_data['Medal'].value_counts()"
   ]
  },
  {
   "cell_type": "code",
   "execution_count": null,
   "id": "0c365711",
   "metadata": {},
   "outputs": [],
   "source": [
    "1735/2042"
   ]
  },
  {
   "cell_type": "markdown",
   "id": "5f89006e",
   "metadata": {
    "papermill": {
     "duration": 0.011178,
     "end_time": "2022-08-15T09:39:08.905975",
     "exception": false,
     "start_time": "2022-08-15T09:39:08.894797",
     "status": "completed"
    },
    "tags": []
   },
   "source": [
    "#### Now, we will fill the missing values in th form data."
   ]
  },
  {
   "cell_type": "code",
   "execution_count": 14,
   "id": "1d14b71e",
   "metadata": {
    "execution": {
     "iopub.execute_input": "2022-08-15T09:39:08.930705Z",
     "iopub.status.busy": "2022-08-15T09:39:08.930106Z",
     "iopub.status.idle": "2022-08-15T09:39:09.572303Z",
     "shell.execute_reply": "2022-08-15T09:39:09.570929Z"
    },
    "papermill": {
     "duration": 0.658145,
     "end_time": "2022-08-15T09:39:09.575481",
     "exception": false,
     "start_time": "2022-08-15T09:39:08.917336",
     "status": "completed"
    },
    "tags": []
   },
   "outputs": [
    {
     "name": "stdout",
     "output_type": "stream",
     "text": [
      "Missing values in form data: \n",
      "Unnamed: 0                  0\n",
      "Id                          0\n",
      "ForumTopicId                0\n",
      "PostUserId                  0\n",
      "PostDate                    0\n",
      "ReplyToForumMessageId    1040\n",
      "Message                     0\n",
      "Medal                    1735\n",
      "MedalAwardDate           1731\n",
      "dtype: int64\n"
     ]
    }
   ],
   "source": [
    "forum_data['Message']=forum_data['Message'].fillna('')\n",
    "print(\"Missing values in form data: \")\n",
    "print(forum_data.isnull().sum())"
   ]
  },
  {
   "cell_type": "code",
   "execution_count": 17,
   "id": "2d93ec0d",
   "metadata": {},
   "outputs": [],
   "source": [
    "forum_data['Medal'].fillna(forum_data['Medal'].median(), inplace=True)"
   ]
  },
  {
   "cell_type": "code",
   "execution_count": 23,
   "id": "fb1f2532",
   "metadata": {},
   "outputs": [],
   "source": [
    "forum_data['MedalAwardDate']=pd.to_datetime(forum_data['MedalAwardDate'])"
   ]
  },
  {
   "cell_type": "code",
   "execution_count": 26,
   "id": "ee7f9bf7",
   "metadata": {},
   "outputs": [],
   "source": [
    "# Get the mode of MedalAwardDate column\n",
    "mode_medal_award_date =forum_data['MedalAwardDate'].mode()[0]"
   ]
  },
  {
   "cell_type": "code",
   "execution_count": 28,
   "id": "861f6cdf",
   "metadata": {},
   "outputs": [],
   "source": [
    "# Fill missing MedalAwardDate values with mode\n",
    "forum_data['MedalAwardDate'].fillna(mode_medal_award_date, inplace=True)"
   ]
  },
  {
   "cell_type": "code",
   "execution_count": 29,
   "id": "6e218839",
   "metadata": {},
   "outputs": [
    {
     "name": "stdout",
     "output_type": "stream",
     "text": [
      "Unnamed: 0                  0\n",
      "Id                          0\n",
      "ForumTopicId                0\n",
      "PostUserId                  0\n",
      "PostDate                    0\n",
      "ReplyToForumMessageId    1040\n",
      "Message                     0\n",
      "Medal                       0\n",
      "MedalAwardDate              0\n",
      "dtype: int64\n"
     ]
    }
   ],
   "source": [
    "print(forum_data.isnull().sum())"
   ]
  },
  {
   "cell_type": "markdown",
   "id": "c241c6fc",
   "metadata": {
    "papermill": {
     "duration": 0.011102,
     "end_time": "2022-08-15T09:39:09.598190",
     "exception": false,
     "start_time": "2022-08-15T09:39:09.587088",
     "status": "completed"
    },
    "tags": []
   },
   "source": [
    "Now, we will group the user by PostUserId since a particular user could have posted more than once."
   ]
  },
  {
   "cell_type": "code",
   "execution_count": 30,
   "id": "1f07581b",
   "metadata": {
    "execution": {
     "iopub.execute_input": "2022-08-15T09:39:09.623391Z",
     "iopub.status.busy": "2022-08-15T09:39:09.622543Z",
     "iopub.status.idle": "2022-08-15T09:39:13.325203Z",
     "shell.execute_reply": "2022-08-15T09:39:13.324053Z"
    },
    "papermill": {
     "duration": 3.718352,
     "end_time": "2022-08-15T09:39:13.327955",
     "exception": false,
     "start_time": "2022-08-15T09:39:09.609603",
     "status": "completed"
    },
    "tags": []
   },
   "outputs": [],
   "source": [
    "forum_data_g=forum_data.groupby('PostUserId')['Message'].agg(lambda col: ' '.join(col)).reset_index()\n"
   ]
  },
  {
   "cell_type": "code",
   "execution_count": 31,
   "id": "c8ae34f1",
   "metadata": {
    "execution": {
     "iopub.execute_input": "2022-08-15T09:39:13.354695Z",
     "iopub.status.busy": "2022-08-15T09:39:13.354253Z",
     "iopub.status.idle": "2022-08-15T09:39:13.388036Z",
     "shell.execute_reply": "2022-08-15T09:39:13.386699Z"
    },
    "papermill": {
     "duration": 0.04977,
     "end_time": "2022-08-15T09:39:13.390592",
     "exception": false,
     "start_time": "2022-08-15T09:39:13.340822",
     "status": "completed"
    },
    "tags": []
   },
   "outputs": [
    {
     "name": "stdout",
     "output_type": "stream",
     "text": [
      "9028       1\n",
      "4746345    1\n",
      "4771974    1\n",
      "4770260    1\n",
      "4767344    1\n",
      "          ..\n",
      "2902238    1\n",
      "2900261    1\n",
      "2894958    1\n",
      "2891924    1\n",
      "7152530    1\n",
      "Name: PostUserId, Length: 1857, dtype: int64\n"
     ]
    }
   ],
   "source": [
    "print(forum_data_g['PostUserId'].value_counts())"
   ]
  },
  {
   "cell_type": "code",
   "execution_count": null,
   "id": "6eeb4f33",
   "metadata": {},
   "outputs": [],
   "source": []
  },
  {
   "cell_type": "code",
   "execution_count": 19,
   "id": "442762b0",
   "metadata": {},
   "outputs": [
    {
     "data": {
      "text/plain": [
       "\"'One time my parents were fighting over my dad's affair and my dad pushed my mom. The fall broke her finger.  She's pointed a gun at him and made him get on his knees and beg for his life. She's...|||I'm gonna talk about what a piece of shit my dad is now.  He's an alcoholic and he has some kind of serious mental problem when it comes to complying with the IRS. (In his words, Laws don't apply...|||OMG...at the women's center I lived at, run by a Catholic charity, the fat bully program manager took it upon herself to change policy so that tenants were FORCED to attend the Christmas party. If...|||I don't work, but I have a calling I am 100% committed to 24/7 with no vacation or off days EVER. I'm a Kundalini mystic.  Oh, I don't get paid, either!  It's one of those destined things...|||My art teacher in high school had a stack of art school catalogs. When I saw the one for the school I ended up going to, I immediately knew that was the one. Without any research. It was like when...|||INFJ  Communication Design  Nope, too much execution, I'm a mystic now|||I got a degree from one of the best schools in the world for that field, but actually having a career in it was unsustainable because it engaged my inferior function directly.  So in my case, even...|||Absolutely|||And I don't know who TF you think in this day and age isn't familiar with employment. ??????? What planet are you living on?! And how did you ever pass kindergarten? Somebody actually employs you?...|||No, it's an issue of taking responsibility for your own sexual response. It's called self-discipline. It starts in the mind. Internalize your sexuality, then you're not at the mercy of how other...|||Oh I think I should also say, if I didn't imply or say it above, that this won't make sense if you've always been healthy -- if you were allowed to develop naturally.  This is for people who were...|||Do something out of character (inferior function immersion) -- this will put you in danger, pumping exciting danger/stress chemicals into your body. Going against the grain. It's the psychological...|||It kind of sounds believable[/QUOTE]  You guys haven't been through stuff like this? Man you've had it easy  You know, last year I spent months hauling my tales of woe around Craigslist rants and...|||HOW TO KNOW IF AN ESTP LIKES YOU  1. They put their hand down your pants|||Don't ESTPs like getting beaten with chains, too? Since you guys are immune to physicality and need as much stimulation as possible to even register being alive...  Getting beaten with chains and...|||ENFPs don't get God-oriented in crisis though|||At first I thought he was an INFJ who'd grown up in his inferior function and was living a false ESTP identity, because my life story parallels his so closely, and that's what happened to me. What...|||Sorry INFJ, fellow INFJ here, ESTPs don't care about anything but your flesh. Have you shared your body with your ESTP? They might miss that, I guess, but it's a long shot...  Physical life here on...|||Not have the ballz? I told my ESTP gf she was a parasite when I dumped her...that was AFTER she'd threatened to punch me in the mouth...|||Oh another thing! Have you ever had sex with a Te person? Te vs Fe sex. Here's how it goes down:  Te person will actually SAY TO YOU, I can't do this if you're gonna make those faces, and will...|||The only reason Te people call everything unstable is because they're TOO SENSITIVE!  They're the unstable ones!!! Can't handle a little Fe brow scrunch! Wow, grow up  That case manager also...|||You've probably been treated like shit your whole life by Te people.  I've been treated like shit just for my Fe facial expressions, and I'm a very cold, controlled person. (Capricorn moon square...|||Eternity > no time > Wen-Nefer|||You know who got defragmented? Osiris   Osiris > underworld > Pluto > shamanism, soul retrieval|||What does the exchange look like where you become more physical and less spiritual?  Or is it always less? Every time we meet I'm less and you're less? Where does that lead?       Yikes....|||I had an ISFJ mother who thought Ni stuff was scary, of the devil, or just insane, so I abandoned Ni at age 5 and learned to hate myself in an effort to stay in her good graces and avoid her wrath. ...|||Although, during Pluto transits, the whole point is to get eaten   But I'm talking about my relationship with Se on a daily basis, when it's not crisis time|||My thing that I'm into is using my inferior as a mirror...like gazing into a scrying mirror   Otherwise I just get eaten by it  IMO that's a proper Ni-Se dynamic|||Oh dear. Trees have stronger and weaker roots, but they never have just one root. Not the healthy ones anyway.  May you find balance.  *hug*[/QUOTE]   My problem has been over identification...|||The dirty people also remind me of people who don't know who they are, they are disempowered, they have no sense of their own vitality, so they're zombies. Moths attracted to a source of light (smoke...|||I've made a lot of sacrifices for my Ni|||I think the trade I'm talking about is an Se-dom meets Ni-dom thing. That sort of interaction could generally be characterized as mutual relief of burden. Or at least that's where it's easiest to...|||Do you identify with the woman who takes in the smoke?  https://www.youtube.com/watch?v=LUc_jXBD9DU  What I've noticed is that there's a trade going on between me and people I encounter (whether...|||You must decode the symbol or you will be impoverished|||I think the INFJ who tries to live a normal life is like a criminal on the run. Eventually you have enough inferior Se experiences that you're now a criminal who is surrounded by cops. You have...|||Everything outside of me is a trap.  Everything in the physical world is a trap  If I get a job, something bad will happen   If I take a walk, something bad will happen   I don't like the...|||Ok so I have an alien/ghost living inside me  It left when I was 5. From that age until 30, I had only negative changes due to constant trauma, cuz I was stuck in my inferior function. I literally...|||wow. you obviously made up your mind what advice you wanted and didn't get it so you're throwing a hissy fit. you did that in your cartoon thread too. it's gross that you're even comparing your...|||I don't even know what your situation is but I'm appalled by the invalidating responses. People who preach about gratitude have either had lives that are far too easy OR they live in denial that...|||INFJ  Daria  I think it's more of a Cap moon thing than a type thing|||The person wants to have sex with me (which is horrific, because I hate physical sex)|||I don't have a FB profile   It's definitely bad for you if you don't like your family or people you went to high school with. I fall into both of those categories.  I prefer strangers. I don't...|||Worst  Dillard's sales associate   My first month there, I reported so much theft 10 people were fired.  Store manager thanked me, ops manager told me to stop reporting so she wouldn't lose her...|||Well, I can tell you what happens when it all goes wrong...  In college, I was at a party in a dorm room. In my dorm building. There was a guy I liked, I cornered him in the bathroom and kissed...|||Ha! Not fair? My younger brother has the entire top floor of the house to himself. That's 2 bedrooms, a living area, and a full bath. All to himself. For free! Even though he makes $40,000 a year. ...|||I already talked about this elsewhere but I like saying it as much as possible because it makes people lose their minds  I only shower once a month, when my period is over. I don't shave anywhere....|||Stay on your turf then. Leave MBTI. If you're an SJ you have nothing to complain about in life because society is structured to make sure you have it easy. You don't need a tool like personality...|||Somebody mentioned not blaming personality type for lack of success or something...  For me it has helped to know the limits of my type so I can stop wanting delusional things like being a pop star...|||I used to get really annoyed because I was surrounded by people who turned everything I said into a meme. You know, like, you have a genuine complaint, and the person invalidates you by not saying...|||I think the only sustainable solution for an INFJ is to value the spirit world over the physical. Invisible support.'\""
      ]
     },
     "execution_count": 19,
     "metadata": {},
     "output_type": "execute_result"
    }
   ],
   "source": [
    "train_data['posts'][10]"
   ]
  },
  {
   "cell_type": "code",
   "execution_count": 18,
   "id": "df609bf9",
   "metadata": {
    "scrolled": true
   },
   "outputs": [
    {
     "data": {
      "text/plain": [
       "\"'Good one  _____   https://www.youtube.com/watch?v=fHiGbolFFGw|||Of course, to which I say I know; that's my blessing and my curse.|||Does being absolutely positive that you and your best friend could be an amazing couple count? If so, than yes.   Or it's more I could be madly in love in case I reconciled my feelings (which at...|||No, I didn't; thank you for a link!|||So-called Ti-Si loop (and it can stem from any current topic/obsession) can be deadly. It's like when you're stuck in your own thoughts, and your mind just wanders in circles. Feels truly terrible. ...|||Have you noticed how peculiar vegetation can be? All you have to do is look down at the grass: dozens of different plant species there.    And now imagine that hundreds of years later (when/if soil...|||The Smiths – Never Had No One Ever|||I often find myself spotting faces on marble tiles/wood.|||This 5 year-old sentence is an incredibly accurate and beautiful description.|||I haven't visited this website in the last 3 years. So whoever reads this (and maybe even remembers me, which I highly doubt): hi.  700049  700057|||When you sit in your garden until 10:30 PM writing songs, and sing them (together with dozens of crickets) while playing your acoustic guitar.|||This is the most INTP-ish thread I've ever seen.|||I wouldn't be able to look at the painting for the entire life if I knew that I picked it over the human being.|||I was drawing a background for my animation on which I'm working right now - it should have been Mars.. But I felt obligated to make Mark Watneyx92s postcard from it :D  If you read the book...|||I started to make comics about turtle Gordon and unicorn Chimes - here you can see two first stories: https://www.tumblr.com/blog/-alexxxandra-|||INTJ Recently I started to post my comics about two friends - turtle Gordon and unicorn Chimes. Before that, I just posted stuff that interested me, but from now on I'll try to include only my works...|||Probably we could work together on a new model - I'm an expert in abrupt explosions of laughter upon various weird stuff. That happens because of peculiar sense of humor - so peculiar that not much...|||Hellooo Nah, you can touch it. Everyone thinks that it's scared or sad, but that's not true - in fact it has an absolutely neutral face. And this kitten actually really likes patting and hugs (only...|||Well.. kind of; As it was already mentioned, sometimes because of Ni it's hard to convey complex stuff which pops up in your head in whimsical compilations of shapes and pictures only with words....|||I think this kitten would be very appropriate here.  376562|||367034|||GOOD NIGHT everyone out there! Even if for someone there is morning right now - nights always supersede mornings.. And people say good night in order to meet next day :)|||Oh, that movie :) It's awesome Thank you! Hope you had good sleep in the air; anyway, I'm wishing you good night for the next night ahead! (hopefully it will be on land)  Good people deserve good...|||358882  358890|||Well, other people who may be wondering about an issue from the name of the topic will find your response helpful anyway :)|||This. Finally someone mentioned that :)|||I still see creatures/faces in a maze of various random patterns. It can be amusing sometimes.  It's a very handy skill when you're bored.|||Oh, I didn't know that.. What a pity.  Why not sacrifice whole supermarket, then? We can decide which Walmart will be the best (I think the biggest one would be great).|||yippy  Here you go  357002  He thinks that the fire is delicious. Should I sacrifice tofu? I don't like to waste food.|||I don't think that the creator of this thread cares what's going on here after 3 years :)|||Heh, I understand you :) With these same given languages)))|||Yessss, Adventure Time :D|||I get angry quite rarely, but when I do, it's safer for surrounding people to go somewhere else. It's impossible for me to hide or suppress anger; the only way to get rid of this feeling is to burst...|||I've never liked it  Anything fake is bad, actually.|||Hugs should be given only to chosen ones. Chosen. There are quite few of them, though.|||349890|||Yup, you're doing it right :)|||http://-alexxxandra-.tumblr.com/|||256818|||Of course it's not very comfortable.  But. Human race survived thankfully women's ability to give birth to other human beings. It worked for thousands of years. Why change it? Besides, there are...|||That happens. And it occurs because most often people use results of extremely precise and elaborate online tests as a basis of determining one's type.      Both visual and language arts (more...|||246386|||I study graphic design now, which I really enjoy. What is interesting about this field, is that the ability to generate ideas and solve problems is much more important than possession of a specific...|||Alexxxandra97 - DeviantArt|||236994|||http://www.youtube.com/watch?v=2Nkcn8m9M0M|||I am always ready to discipline (to intimidate, to be precise) my sibling's offender.|||World domination? Shooting people in the head? Why?  Oh, right, INTJs always must be characterised only with these words.     I want to show so badly my reaction to this: 221226|||218106|||ISTP?   http://www.youtube.com/watch?v=7ghqoYxmaUE'\""
      ]
     },
     "execution_count": 18,
     "metadata": {},
     "output_type": "execute_result"
    }
   ],
   "source": [
    "train_data['posts'][2]"
   ]
  },
  {
   "cell_type": "markdown",
   "id": "aa97df66",
   "metadata": {
    "papermill": {
     "duration": 0.011266,
     "end_time": "2022-08-15T09:39:13.413518",
     "exception": false,
     "start_time": "2022-08-15T09:39:13.402252",
     "status": "completed"
    },
    "tags": []
   },
   "source": [
    "### Data Cleaning"
   ]
  },
  {
   "cell_type": "code",
   "execution_count": 72,
   "id": "5da7094d",
   "metadata": {},
   "outputs": [
    {
     "name": "stderr",
     "output_type": "stream",
     "text": [
      "[nltk_data] Downloading package stopwords to\n",
      "[nltk_data]     C:\\Users\\dell\\AppData\\Roaming\\nltk_data...\n",
      "[nltk_data]   Package stopwords is already up-to-date!\n",
      "[nltk_data] Downloading package wordnet to\n",
      "[nltk_data]     C:\\Users\\dell\\AppData\\Roaming\\nltk_data...\n"
     ]
    },
    {
     "data": {
      "text/plain": [
       "True"
      ]
     },
     "execution_count": 72,
     "metadata": {},
     "output_type": "execute_result"
    }
   ],
   "source": [
    "nltk.download('stopwords')\n",
    "nltk.download('wordnet')"
   ]
  },
  {
   "cell_type": "code",
   "execution_count": 73,
   "id": "1e8bfa19",
   "metadata": {
    "execution": {
     "iopub.execute_input": "2022-08-15T09:39:15.369420Z",
     "iopub.status.busy": "2022-08-15T09:39:15.368415Z",
     "iopub.status.idle": "2022-08-15T09:39:15.375533Z",
     "shell.execute_reply": "2022-08-15T09:39:15.374821Z"
    },
    "papermill": {
     "duration": 0.022313,
     "end_time": "2022-08-15T09:39:15.377703",
     "exception": false,
     "start_time": "2022-08-15T09:39:15.355390",
     "status": "completed"
    },
    "tags": []
   },
   "outputs": [],
   "source": [
    "def text_cleaning(text):\n",
    "    text=BeautifulSoup(text,'lxml').text\n",
    "    #removing html and seperators\n",
    "    text=re.sub(r'\\|\\|\\|', r'  ', text)\n",
    "    text=re.sub(r'http\\S+', r'  ', text)\n",
    "    ### Special character removal \n",
    "    #removing puntuations\n",
    "    text=text.replace('.', '  ')\n",
    "    translator=str.maketrans('', '', string.punctuation)\n",
    "    text=text.translate(translator)\n",
    "    #removing numbers\n",
    "    text=''.join(i for i in text if not i.isdigit())\n",
    "    # Remove stop words\n",
    "    stop_words = stopwords.words('english')\n",
    "    text = ' '.join([word for word in text.split() if word not in stop_words])\n",
    "    # lemmitizaton\n",
    "    lemmatizer = WordNetLemmatizer()\n",
    "    text = ' '.join([lemmatizer.lemmatize(word) for word in text.split()])\n",
    "    return text"
   ]
  },
  {
   "cell_type": "code",
   "execution_count": 74,
   "id": "2aefa431",
   "metadata": {
    "execution": {
     "iopub.execute_input": "2022-08-15T09:39:15.402744Z",
     "iopub.status.busy": "2022-08-15T09:39:15.402320Z",
     "iopub.status.idle": "2022-08-15T09:39:30.142124Z",
     "shell.execute_reply": "2022-08-15T09:39:30.140896Z"
    },
    "papermill": {
     "duration": 14.75568,
     "end_time": "2022-08-15T09:39:30.145187",
     "exception": false,
     "start_time": "2022-08-15T09:39:15.389507",
     "status": "completed"
    },
    "tags": []
   },
   "outputs": [
    {
     "name": "stderr",
     "output_type": "stream",
     "text": [
      "C:\\Users\\dell\\AppData\\Local\\Temp\\ipykernel_11204\\1435873697.py:2: MarkupResemblesLocatorWarning: The input looks more like a filename than markup. You may want to open this file and pass the filehandle into Beautiful Soup.\n",
      "  text=BeautifulSoup(text,'lxml').text\n"
     ]
    }
   ],
   "source": [
    "train_data['clean_posts']=train_data['posts'].apply(text_cleaning)"
   ]
  },
  {
   "cell_type": "code",
   "execution_count": 75,
   "id": "d76b586c",
   "metadata": {
    "execution": {
     "iopub.execute_input": "2022-08-15T09:39:30.171981Z",
     "iopub.status.busy": "2022-08-15T09:39:30.171388Z",
     "iopub.status.idle": "2022-08-15T09:39:30.178643Z",
     "shell.execute_reply": "2022-08-15T09:39:30.177681Z"
    },
    "papermill": {
     "duration": 0.023405,
     "end_time": "2022-08-15T09:39:30.181014",
     "exception": false,
     "start_time": "2022-08-15T09:39:30.157609",
     "status": "completed"
    },
    "scrolled": true,
    "tags": []
   },
   "outputs": [
    {
     "data": {
      "text/plain": [
       "'Im finding lack post alarming Sex boring position often For example girlfriend currently environment creatively use cowgirl missionary There isnt enough Giving new meaning Game theory Hello ENTP Grin Thats take Than converse flirting I acknowledge presence return word smooth wordplay cheeky grin This Lack Balance Hand Eye Coordination Real IQ test I score Internet IQ test funny I score higher Now like former response thread I mention I dont believe IQ test Before banish You know youre ENTP vanish site year half return find people still commenting post liking ideasthoughts You know youre ENTP I think thing sometimes I go old Sherlock Holmes quote Perhaps man special knowledge special power like rather encourages seek complex cheshirewolf tumblr com So I D post Not really Ive never thought EI JP real function I judge I use I use Ne Ti dominates Fe emotion rarely Si I also use Ni due strength You know though That ingenious After saying I really want try see happens playing first person shooter back drive around I want see look rock paper one best It make lol You guy lucky D Im really high tumblr system So hear new first person shooter game Ive rocking hell soundtrack auto sound equipment shake heaven We managed put couple PSs No The way connected thing Ne Ne dominates aware environment Se dominates Example Shawn Spencer Patrick Jane Both ENTPs Well charlie I first admit I get jealous like I chalk w heart mixed dominate w like noticed like known D Ill upload clip mic away mouth Than wont hear anything Ninja Assassin style splatter Tik Tok really great song As long mental block singer I love beat make bounce drop io vswck D Mic really close mouth smokin ace assassin ball playing background Sociable extrovert Im extrovert Im sociable Sherlock movie ENTP Normally he played EXTJ In book he ESTJ As I said The movie looked good except called sherlock holmes Oh I never fear kissing guy I kiss animal So nothing vanish Just personal taste liking The guy I kissed didnt know It one Sounds pretty much like area Im going right trying figure way I want take life I want many thing The biggest problem I know I dont D I operating impression female I never looked boxy Okay I help gay friend time one developed little crush I get red TT You described Im living worst nightmare Im trapped one place one one around Only dull wood If I serial killer would perfect place sadly Im TBH biased sound like shadowed INFP I think maybe hurt turned ESTJ I tell typical INFP trait left Checks list Im sorry It seems came bad time Weve already reached quota INFJs However youre female I like female I make deal I kick one Im ANTP Leaning toward E Im easy ENTPs INTPs identify I also imagine ENTPs interrogation would go little bit like Jacks except mechanical Rigging shock treatment equipment abandoned building old car batty jumper It compliment Trust Im psychopathic D except I emoticon Theyre weird one Like laughing I get hurt people running lawn mower No Its like theme I live I know heart I usual dont leave thing end But mean time In time You work thing Ill work mine D D Im MBP Pleasure meet Damn need trust instinct I would closer I going say INFP EXFP Leaning toward S way responded D My friend even gay lesbian one always come advice I bow entp master ENTPs great If wasnt ENTPs I wouldnt able build Im building Duck Duck Duck Shotgun What Me I never'"
      ]
     },
     "execution_count": 75,
     "metadata": {},
     "output_type": "execute_result"
    }
   ],
   "source": [
    "train_data['clean_posts'][1]"
   ]
  },
  {
   "cell_type": "code",
   "execution_count": 76,
   "id": "ead76329",
   "metadata": {
    "execution": {
     "iopub.execute_input": "2022-08-15T09:39:30.206700Z",
     "iopub.status.busy": "2022-08-15T09:39:30.205836Z",
     "iopub.status.idle": "2022-08-15T09:44:59.386170Z",
     "shell.execute_reply": "2022-08-15T09:44:59.385086Z"
    },
    "papermill": {
     "duration": 329.196077,
     "end_time": "2022-08-15T09:44:59.388942",
     "exception": false,
     "start_time": "2022-08-15T09:39:30.192865",
     "status": "completed"
    },
    "tags": []
   },
   "outputs": [],
   "source": [
    "forum_data_g['clean_messages']=forum_data_g['Message'].apply(text_cleaning)\n"
   ]
  },
  {
   "cell_type": "code",
   "execution_count": 77,
   "id": "c637ff8e",
   "metadata": {
    "execution": {
     "iopub.execute_input": "2022-08-15T09:44:59.415160Z",
     "iopub.status.busy": "2022-08-15T09:44:59.414743Z",
     "iopub.status.idle": "2022-08-15T09:44:59.429527Z",
     "shell.execute_reply": "2022-08-15T09:44:59.428684Z"
    },
    "papermill": {
     "duration": 0.042832,
     "end_time": "2022-08-15T09:44:59.444363",
     "exception": false,
     "start_time": "2022-08-15T09:44:59.401531",
     "status": "completed"
    },
    "tags": []
   },
   "outputs": [
    {
     "data": {
      "text/plain": [
       "'Personally I wouldnt trust data skewed preeconomic crisis The reality real state pre crisis actual real state construction changed specially since availability credit setup moved people aquire specific good probably purchasing house In event model would become skewed scenario year meaning poorly fitted model future value specially inicial year event A longer run data would better take account evolution pricing'"
      ]
     },
     "execution_count": 77,
     "metadata": {},
     "output_type": "execute_result"
    }
   ],
   "source": [
    "forum_data_g['clean_messages'][1]"
   ]
  },
  {
   "cell_type": "code",
   "execution_count": 44,
   "id": "ad3af0e6",
   "metadata": {
    "execution": {
     "iopub.execute_input": "2022-08-15T09:44:59.477893Z",
     "iopub.status.busy": "2022-08-15T09:44:59.477027Z",
     "iopub.status.idle": "2022-08-15T09:44:59.483299Z",
     "shell.execute_reply": "2022-08-15T09:44:59.482449Z"
    },
    "papermill": {
     "duration": 0.025306,
     "end_time": "2022-08-15T09:44:59.485428",
     "exception": false,
     "start_time": "2022-08-15T09:44:59.460122",
     "status": "completed"
    },
    "tags": []
   },
   "outputs": [],
   "source": [
    "## Highlight the bold words - CAPS\n",
    "\n",
    "def split_uppercase(text):\n",
    "    text_list = text.split()\n",
    "    new_list = []\n",
    "    for i in text_list:\n",
    "        if i.isupper() == False: \n",
    "            word = re.sub(r'([A-Z])', r' \\1', i)\n",
    "            new_list.append(word)\n",
    "        else:\n",
    "            word = i\n",
    "            new_list.append(word)\n",
    "    words = ' '.join(new_list)\n",
    "    return words"
   ]
  },
  {
   "cell_type": "code",
   "execution_count": 45,
   "id": "7795133d",
   "metadata": {
    "execution": {
     "iopub.execute_input": "2022-08-15T09:44:59.517908Z",
     "iopub.status.busy": "2022-08-15T09:44:59.517228Z",
     "iopub.status.idle": "2022-08-15T09:47:37.613037Z",
     "shell.execute_reply": "2022-08-15T09:47:37.611732Z"
    },
    "papermill": {
     "duration": 158.115678,
     "end_time": "2022-08-15T09:47:37.616311",
     "exception": false,
     "start_time": "2022-08-15T09:44:59.500633",
     "status": "completed"
    },
    "tags": []
   },
   "outputs": [],
   "source": [
    "forum_data_g['clean_messages']=forum_data_g['clean_messages'].apply(split_uppercase)"
   ]
  },
  {
   "cell_type": "code",
   "execution_count": 46,
   "id": "9a05a170",
   "metadata": {
    "execution": {
     "iopub.execute_input": "2022-08-15T09:47:37.649339Z",
     "iopub.status.busy": "2022-08-15T09:47:37.648724Z",
     "iopub.status.idle": "2022-08-15T09:47:37.658683Z",
     "shell.execute_reply": "2022-08-15T09:47:37.657901Z"
    },
    "papermill": {
     "duration": 0.03727,
     "end_time": "2022-08-15T09:47:37.669097",
     "exception": false,
     "start_time": "2022-08-15T09:47:37.631827",
     "status": "completed"
    },
    "tags": []
   },
   "outputs": [
    {
     "data": {
      "text/plain": [
       "' Personally I wouldnt trust the data as it is skewed to a preeconomic crisis  The reality of the real state pre crisis and actual real state construction should have changed specially since the availability of credit in this setup moved people to aquire specific good most probably purchasing houses  In this event the model would become skewed to what the scenario in those years was meaning in a poorly fitted model for future values specially at the inicial years after the event A longer run of data would be better to take into account the evolution of pricing'"
      ]
     },
     "execution_count": 46,
     "metadata": {},
     "output_type": "execute_result"
    }
   ],
   "source": [
    "forum_data_g['clean_messages'][1]"
   ]
  },
  {
   "cell_type": "markdown",
   "id": "2e4a89e2",
   "metadata": {
    "papermill": {
     "duration": 0.022382,
     "end_time": "2022-08-15T10:01:31.287627",
     "exception": false,
     "start_time": "2022-08-15T10:01:31.265245",
     "status": "completed"
    },
    "tags": []
   },
   "source": [
    "# Model Building"
   ]
  },
  {
   "cell_type": "code",
   "execution_count": 79,
   "id": "79a8ab14",
   "metadata": {
    "execution": {
     "iopub.execute_input": "2022-08-15T10:01:31.403332Z",
     "iopub.status.busy": "2022-08-15T10:01:31.402558Z",
     "iopub.status.idle": "2022-08-15T10:01:31.407566Z",
     "shell.execute_reply": "2022-08-15T10:01:31.406823Z"
    },
    "papermill": {
     "duration": 0.031694,
     "end_time": "2022-08-15T10:01:31.409675",
     "exception": false,
     "start_time": "2022-08-15T10:01:31.377981",
     "status": "completed"
    },
    "tags": []
   },
   "outputs": [],
   "source": [
    "kfolds = StratifiedKFold(n_splits=5, shuffle=True, random_state=1)\n",
    "\n",
    "scoring = {'acc': 'accuracy',\n",
    "           'neg_log_loss': 'neg_log_loss',\n",
    "           'f1_micro': 'f1_micro'}"
   ]
  },
  {
   "cell_type": "code",
   "execution_count": 80,
   "id": "cbf93e3f",
   "metadata": {
    "execution": {
     "iopub.execute_input": "2022-08-15T10:01:31.458022Z",
     "iopub.status.busy": "2022-08-15T10:01:31.457381Z",
     "iopub.status.idle": "2022-08-15T10:02:15.619446Z",
     "shell.execute_reply": "2022-08-15T10:02:15.617857Z"
    },
    "papermill": {
     "duration": 44.189361,
     "end_time": "2022-08-15T10:02:15.622189",
     "exception": false,
     "start_time": "2022-08-15T10:01:31.432828",
     "status": "completed"
    },
    "tags": []
   },
   "outputs": [],
   "source": [
    "countVect=CountVectorizer(ngram_range=(1,1), stop_words='english', lowercase=True, max_features=5000)\n",
    "model=Pipeline([('countVect',countVect),('lr',LogisticRegression(class_weight='balanced',C=0.005))])\n",
    "results=cross_validate(model, train_data['clean_posts'],train_data['type'], cv=kfolds, scoring=scoring, n_jobs=-1)"
   ]
  },
  {
   "cell_type": "code",
   "execution_count": 82,
   "id": "ac781417",
   "metadata": {
    "execution": {
     "iopub.execute_input": "2022-08-15T10:02:15.672758Z",
     "iopub.status.busy": "2022-08-15T10:02:15.672012Z",
     "iopub.status.idle": "2022-08-15T10:02:15.679534Z",
     "shell.execute_reply": "2022-08-15T10:02:15.678387Z"
    },
    "papermill": {
     "duration": 0.03544,
     "end_time": "2022-08-15T10:02:15.681971",
     "exception": false,
     "start_time": "2022-08-15T10:02:15.646531",
     "status": "completed"
    },
    "tags": []
   },
   "outputs": [
    {
     "name": "stdout",
     "output_type": "stream",
     "text": [
      "Accuracy: 0.65602 \n",
      "Logloss: 1.30822 \n"
     ]
    }
   ],
   "source": [
    "print(\"Accuracy: {:0.5f} \".format(np.mean(results['test_acc'])))\n",
    "print(\"Logloss: {:0.5f} \".format(np.mean(-1*results['test_neg_log_loss'])))"
   ]
  },
  {
   "cell_type": "markdown",
   "id": "b22cb2a2",
   "metadata": {
    "papermill": {
     "duration": 0.023154,
     "end_time": "2022-08-15T10:02:15.728670",
     "exception": false,
     "start_time": "2022-08-15T10:02:15.705516",
     "status": "completed"
    },
    "tags": []
   },
   "source": [
    "# Model Predictions"
   ]
  },
  {
   "cell_type": "code",
   "execution_count": 56,
   "id": "c1c0541e",
   "metadata": {
    "execution": {
     "iopub.execute_input": "2022-08-15T10:02:15.777945Z",
     "iopub.status.busy": "2022-08-15T10:02:15.777452Z",
     "iopub.status.idle": "2022-08-15T10:02:41.155637Z",
     "shell.execute_reply": "2022-08-15T10:02:41.153708Z"
    },
    "papermill": {
     "duration": 25.406899,
     "end_time": "2022-08-15T10:02:41.159353",
     "exception": false,
     "start_time": "2022-08-15T10:02:15.752454",
     "status": "completed"
    },
    "tags": []
   },
   "outputs": [
    {
     "name": "stderr",
     "output_type": "stream",
     "text": [
      "C:\\Users\\dell\\miniconda3\\lib\\site-packages\\sklearn\\linear_model\\_logistic.py:458: ConvergenceWarning: lbfgs failed to converge (status=1):\n",
      "STOP: TOTAL NO. of ITERATIONS REACHED LIMIT.\n",
      "\n",
      "Increase the number of iterations (max_iter) or scale the data as shown in:\n",
      "    https://scikit-learn.org/stable/modules/preprocessing.html\n",
      "Please also refer to the documentation for alternative solver options:\n",
      "    https://scikit-learn.org/stable/modules/linear_model.html#logistic-regression\n",
      "  n_iter_i = _check_optimize_result(\n"
     ]
    },
    {
     "data": {
      "text/html": [
       "<style>#sk-container-id-1 {color: black;background-color: white;}#sk-container-id-1 pre{padding: 0;}#sk-container-id-1 div.sk-toggleable {background-color: white;}#sk-container-id-1 label.sk-toggleable__label {cursor: pointer;display: block;width: 100%;margin-bottom: 0;padding: 0.3em;box-sizing: border-box;text-align: center;}#sk-container-id-1 label.sk-toggleable__label-arrow:before {content: \"▸\";float: left;margin-right: 0.25em;color: #696969;}#sk-container-id-1 label.sk-toggleable__label-arrow:hover:before {color: black;}#sk-container-id-1 div.sk-estimator:hover label.sk-toggleable__label-arrow:before {color: black;}#sk-container-id-1 div.sk-toggleable__content {max-height: 0;max-width: 0;overflow: hidden;text-align: left;background-color: #f0f8ff;}#sk-container-id-1 div.sk-toggleable__content pre {margin: 0.2em;color: black;border-radius: 0.25em;background-color: #f0f8ff;}#sk-container-id-1 input.sk-toggleable__control:checked~div.sk-toggleable__content {max-height: 200px;max-width: 100%;overflow: auto;}#sk-container-id-1 input.sk-toggleable__control:checked~label.sk-toggleable__label-arrow:before {content: \"▾\";}#sk-container-id-1 div.sk-estimator input.sk-toggleable__control:checked~label.sk-toggleable__label {background-color: #d4ebff;}#sk-container-id-1 div.sk-label input.sk-toggleable__control:checked~label.sk-toggleable__label {background-color: #d4ebff;}#sk-container-id-1 input.sk-hidden--visually {border: 0;clip: rect(1px 1px 1px 1px);clip: rect(1px, 1px, 1px, 1px);height: 1px;margin: -1px;overflow: hidden;padding: 0;position: absolute;width: 1px;}#sk-container-id-1 div.sk-estimator {font-family: monospace;background-color: #f0f8ff;border: 1px dotted black;border-radius: 0.25em;box-sizing: border-box;margin-bottom: 0.5em;}#sk-container-id-1 div.sk-estimator:hover {background-color: #d4ebff;}#sk-container-id-1 div.sk-parallel-item::after {content: \"\";width: 100%;border-bottom: 1px solid gray;flex-grow: 1;}#sk-container-id-1 div.sk-label:hover label.sk-toggleable__label {background-color: #d4ebff;}#sk-container-id-1 div.sk-serial::before {content: \"\";position: absolute;border-left: 1px solid gray;box-sizing: border-box;top: 0;bottom: 0;left: 50%;z-index: 0;}#sk-container-id-1 div.sk-serial {display: flex;flex-direction: column;align-items: center;background-color: white;padding-right: 0.2em;padding-left: 0.2em;position: relative;}#sk-container-id-1 div.sk-item {position: relative;z-index: 1;}#sk-container-id-1 div.sk-parallel {display: flex;align-items: stretch;justify-content: center;background-color: white;position: relative;}#sk-container-id-1 div.sk-item::before, #sk-container-id-1 div.sk-parallel-item::before {content: \"\";position: absolute;border-left: 1px solid gray;box-sizing: border-box;top: 0;bottom: 0;left: 50%;z-index: -1;}#sk-container-id-1 div.sk-parallel-item {display: flex;flex-direction: column;z-index: 1;position: relative;background-color: white;}#sk-container-id-1 div.sk-parallel-item:first-child::after {align-self: flex-end;width: 50%;}#sk-container-id-1 div.sk-parallel-item:last-child::after {align-self: flex-start;width: 50%;}#sk-container-id-1 div.sk-parallel-item:only-child::after {width: 0;}#sk-container-id-1 div.sk-dashed-wrapped {border: 1px dashed gray;margin: 0 0.4em 0.5em 0.4em;box-sizing: border-box;padding-bottom: 0.4em;background-color: white;}#sk-container-id-1 div.sk-label label {font-family: monospace;font-weight: bold;display: inline-block;line-height: 1.2em;}#sk-container-id-1 div.sk-label-container {text-align: center;}#sk-container-id-1 div.sk-container {/* jupyter's `normalize.less` sets `[hidden] { display: none; }` but bootstrap.min.css set `[hidden] { display: none !important; }` so we also need the `!important` here to be able to override the default hidden behavior on the sphinx rendered scikit-learn.org. See: https://github.com/scikit-learn/scikit-learn/issues/21755 */display: inline-block !important;position: relative;}#sk-container-id-1 div.sk-text-repr-fallback {display: none;}</style><div id=\"sk-container-id-1\" class=\"sk-top-container\"><div class=\"sk-text-repr-fallback\"><pre>Pipeline(steps=[(&#x27;countVect&#x27;,\n",
       "                 CountVectorizer(max_features=5000, stop_words=&#x27;english&#x27;)),\n",
       "                (&#x27;lr&#x27;, LogisticRegression(C=0.005, class_weight=&#x27;balanced&#x27;))])</pre><b>In a Jupyter environment, please rerun this cell to show the HTML representation or trust the notebook. <br />On GitHub, the HTML representation is unable to render, please try loading this page with nbviewer.org.</b></div><div class=\"sk-container\" hidden><div class=\"sk-item sk-dashed-wrapped\"><div class=\"sk-label-container\"><div class=\"sk-label sk-toggleable\"><input class=\"sk-toggleable__control sk-hidden--visually\" id=\"sk-estimator-id-1\" type=\"checkbox\" ><label for=\"sk-estimator-id-1\" class=\"sk-toggleable__label sk-toggleable__label-arrow\">Pipeline</label><div class=\"sk-toggleable__content\"><pre>Pipeline(steps=[(&#x27;countVect&#x27;,\n",
       "                 CountVectorizer(max_features=5000, stop_words=&#x27;english&#x27;)),\n",
       "                (&#x27;lr&#x27;, LogisticRegression(C=0.005, class_weight=&#x27;balanced&#x27;))])</pre></div></div></div><div class=\"sk-serial\"><div class=\"sk-item\"><div class=\"sk-estimator sk-toggleable\"><input class=\"sk-toggleable__control sk-hidden--visually\" id=\"sk-estimator-id-2\" type=\"checkbox\" ><label for=\"sk-estimator-id-2\" class=\"sk-toggleable__label sk-toggleable__label-arrow\">CountVectorizer</label><div class=\"sk-toggleable__content\"><pre>CountVectorizer(max_features=5000, stop_words=&#x27;english&#x27;)</pre></div></div></div><div class=\"sk-item\"><div class=\"sk-estimator sk-toggleable\"><input class=\"sk-toggleable__control sk-hidden--visually\" id=\"sk-estimator-id-3\" type=\"checkbox\" ><label for=\"sk-estimator-id-3\" class=\"sk-toggleable__label sk-toggleable__label-arrow\">LogisticRegression</label><div class=\"sk-toggleable__content\"><pre>LogisticRegression(C=0.005, class_weight=&#x27;balanced&#x27;)</pre></div></div></div></div></div></div></div>"
      ],
      "text/plain": [
       "Pipeline(steps=[('countVect',\n",
       "                 CountVectorizer(max_features=5000, stop_words='english')),\n",
       "                ('lr', LogisticRegression(C=0.005, class_weight='balanced'))])"
      ]
     },
     "execution_count": 56,
     "metadata": {},
     "output_type": "execute_result"
    }
   ],
   "source": [
    "model.fit(train_data['clean_posts'],train_data['type'])"
   ]
  },
  {
   "cell_type": "code",
   "execution_count": 58,
   "id": "4a0adfbe",
   "metadata": {
    "execution": {
     "iopub.execute_input": "2022-08-15T10:02:41.259300Z",
     "iopub.status.busy": "2022-08-15T10:02:41.258896Z",
     "iopub.status.idle": "2022-08-15T10:03:20.751786Z",
     "shell.execute_reply": "2022-08-15T10:03:20.750806Z"
    },
    "papermill": {
     "duration": 39.535639,
     "end_time": "2022-08-15T10:03:20.754356",
     "exception": false,
     "start_time": "2022-08-15T10:02:41.218717",
     "status": "completed"
    },
    "tags": []
   },
   "outputs": [],
   "source": [
    "pred=model.predict(forum_data_g['clean_messages'])"
   ]
  },
  {
   "cell_type": "code",
   "execution_count": 59,
   "id": "016b2926",
   "metadata": {
    "execution": {
     "iopub.execute_input": "2022-08-15T10:03:20.809538Z",
     "iopub.status.busy": "2022-08-15T10:03:20.808810Z",
     "iopub.status.idle": "2022-08-15T10:03:20.986477Z",
     "shell.execute_reply": "2022-08-15T10:03:20.985229Z"
    },
    "papermill": {
     "duration": 0.209612,
     "end_time": "2022-08-15T10:03:20.988945",
     "exception": false,
     "start_time": "2022-08-15T10:03:20.779333",
     "status": "completed"
    },
    "tags": []
   },
   "outputs": [
    {
     "data": {
      "text/plain": [
       "(array(['ENFJ', 'ENFP', 'ENTJ', 'ENTP', 'ESFJ', 'ESFP', 'ESTJ', 'ESTP',\n",
       "        'INFP', 'INTJ', 'INTP', 'ISFJ', 'ISFP', 'ISTJ', 'ISTP'],\n",
       "       dtype=object),\n",
       " array([  1,   2,  34,  58,  28, 394,   1,  26,   3, 873,  16,  89,  37,\n",
       "        112, 183], dtype=int64))"
      ]
     },
     "execution_count": 59,
     "metadata": {},
     "output_type": "execute_result"
    }
   ],
   "source": [
    "count=np.unique(pred,return_counts=True)\n",
    "count"
   ]
  },
  {
   "cell_type": "code",
   "execution_count": 60,
   "id": "181f9f3b",
   "metadata": {
    "execution": {
     "iopub.execute_input": "2022-08-15T10:03:21.040417Z",
     "iopub.status.busy": "2022-08-15T10:03:21.040029Z",
     "iopub.status.idle": "2022-08-15T10:03:21.052831Z",
     "shell.execute_reply": "2022-08-15T10:03:21.051752Z"
    },
    "papermill": {
     "duration": 0.04142,
     "end_time": "2022-08-15T10:03:21.055177",
     "exception": false,
     "start_time": "2022-08-15T10:03:21.013757",
     "status": "completed"
    },
    "tags": []
   },
   "outputs": [
    {
     "data": {
      "text/html": [
       "<div>\n",
       "<style scoped>\n",
       "    .dataframe tbody tr th:only-of-type {\n",
       "        vertical-align: middle;\n",
       "    }\n",
       "\n",
       "    .dataframe tbody tr th {\n",
       "        vertical-align: top;\n",
       "    }\n",
       "\n",
       "    .dataframe thead th {\n",
       "        text-align: right;\n",
       "    }\n",
       "</style>\n",
       "<table border=\"1\" class=\"dataframe\">\n",
       "  <thead>\n",
       "    <tr style=\"text-align: right;\">\n",
       "      <th></th>\n",
       "      <th>Personality</th>\n",
       "      <th>Count</th>\n",
       "    </tr>\n",
       "  </thead>\n",
       "  <tbody>\n",
       "    <tr>\n",
       "      <th>0</th>\n",
       "      <td>ENFJ</td>\n",
       "      <td>1</td>\n",
       "    </tr>\n",
       "    <tr>\n",
       "      <th>1</th>\n",
       "      <td>ENFP</td>\n",
       "      <td>2</td>\n",
       "    </tr>\n",
       "    <tr>\n",
       "      <th>2</th>\n",
       "      <td>ENTJ</td>\n",
       "      <td>34</td>\n",
       "    </tr>\n",
       "    <tr>\n",
       "      <th>3</th>\n",
       "      <td>ENTP</td>\n",
       "      <td>58</td>\n",
       "    </tr>\n",
       "    <tr>\n",
       "      <th>4</th>\n",
       "      <td>ESFJ</td>\n",
       "      <td>28</td>\n",
       "    </tr>\n",
       "    <tr>\n",
       "      <th>5</th>\n",
       "      <td>ESFP</td>\n",
       "      <td>394</td>\n",
       "    </tr>\n",
       "    <tr>\n",
       "      <th>6</th>\n",
       "      <td>ESTJ</td>\n",
       "      <td>1</td>\n",
       "    </tr>\n",
       "    <tr>\n",
       "      <th>7</th>\n",
       "      <td>ESTP</td>\n",
       "      <td>26</td>\n",
       "    </tr>\n",
       "    <tr>\n",
       "      <th>8</th>\n",
       "      <td>INFP</td>\n",
       "      <td>3</td>\n",
       "    </tr>\n",
       "    <tr>\n",
       "      <th>9</th>\n",
       "      <td>INTJ</td>\n",
       "      <td>873</td>\n",
       "    </tr>\n",
       "    <tr>\n",
       "      <th>10</th>\n",
       "      <td>INTP</td>\n",
       "      <td>16</td>\n",
       "    </tr>\n",
       "    <tr>\n",
       "      <th>11</th>\n",
       "      <td>ISFJ</td>\n",
       "      <td>89</td>\n",
       "    </tr>\n",
       "    <tr>\n",
       "      <th>12</th>\n",
       "      <td>ISFP</td>\n",
       "      <td>37</td>\n",
       "    </tr>\n",
       "    <tr>\n",
       "      <th>13</th>\n",
       "      <td>ISTJ</td>\n",
       "      <td>112</td>\n",
       "    </tr>\n",
       "    <tr>\n",
       "      <th>14</th>\n",
       "      <td>ISTP</td>\n",
       "      <td>183</td>\n",
       "    </tr>\n",
       "  </tbody>\n",
       "</table>\n",
       "</div>"
      ],
      "text/plain": [
       "   Personality  Count\n",
       "0         ENFJ      1\n",
       "1         ENFP      2\n",
       "2         ENTJ     34\n",
       "3         ENTP     58\n",
       "4         ESFJ     28\n",
       "5         ESFP    394\n",
       "6         ESTJ      1\n",
       "7         ESTP     26\n",
       "8         INFP      3\n",
       "9         INTJ    873\n",
       "10        INTP     16\n",
       "11        ISFJ     89\n",
       "12        ISFP     37\n",
       "13        ISTJ    112\n",
       "14        ISTP    183"
      ]
     },
     "execution_count": 60,
     "metadata": {},
     "output_type": "execute_result"
    }
   ],
   "source": [
    "list_of_preds=list(zip(count[0],count[1]))\n",
    "pred_df=pd.DataFrame(list_of_preds, columns=['Personality','Count'])\n",
    "pred_df"
   ]
  },
  {
   "cell_type": "markdown",
   "id": "45c68cfa",
   "metadata": {
    "papermill": {
     "duration": 0.023523,
     "end_time": "2022-08-15T10:03:21.103419",
     "exception": false,
     "start_time": "2022-08-15T10:03:21.079896",
     "status": "completed"
    },
    "tags": []
   },
   "source": [
    "# Observations: Plotting a Bar Graph"
   ]
  },
  {
   "cell_type": "code",
   "execution_count": 61,
   "id": "dac845cc",
   "metadata": {
    "execution": {
     "iopub.execute_input": "2022-08-15T10:03:21.154063Z",
     "iopub.status.busy": "2022-08-15T10:03:21.153605Z",
     "iopub.status.idle": "2022-08-15T10:03:21.369637Z",
     "shell.execute_reply": "2022-08-15T10:03:21.368297Z"
    },
    "papermill": {
     "duration": 0.244873,
     "end_time": "2022-08-15T10:03:21.372454",
     "exception": false,
     "start_time": "2022-08-15T10:03:21.127581",
     "status": "completed"
    },
    "tags": []
   },
   "outputs": [],
   "source": [
    "#importing the libraries\n",
    "import matplotlib.pyplot as plt\n",
    "import seaborn as sns"
   ]
  },
  {
   "cell_type": "code",
   "execution_count": 62,
   "id": "16d29a17",
   "metadata": {
    "execution": {
     "iopub.execute_input": "2022-08-15T10:03:21.424156Z",
     "iopub.status.busy": "2022-08-15T10:03:21.423447Z",
     "iopub.status.idle": "2022-08-15T10:03:21.785364Z",
     "shell.execute_reply": "2022-08-15T10:03:21.784105Z"
    },
    "papermill": {
     "duration": 0.390429,
     "end_time": "2022-08-15T10:03:21.787746",
     "exception": false,
     "start_time": "2022-08-15T10:03:21.397317",
     "status": "completed"
    },
    "tags": []
   },
   "outputs": [
    {
     "data": {
      "image/png": "[encoded data removed]",
      "text/plain": [
       "<Figure size 2000x800 with 1 Axes>"
      ]
     },
     "metadata": {},
     "output_type": "display_data"
    }
   ],
   "source": [
    "pred_df.sort_values('Count', inplace=True)\n",
    "plt.figure(figsize=(20,8))\n",
    "sns.barplot(x=pred_df['Personality'], y=pred_df['Count'])\n",
    "plt.ylabel('Number of Occurrences')\n",
    "plt.xlabel('Personality')\n",
    "plt.show()"
   ]
  },
  {
   "cell_type": "markdown",
   "id": "b56134b3",
   "metadata": {
    "papermill": {
     "duration": 0.024302,
     "end_time": "2022-08-15T10:03:21.837230",
     "exception": false,
     "start_time": "2022-08-15T10:03:21.812928",
     "status": "completed"
    },
    "tags": []
   },
   "source": [
    "#### So from the above bar graph, we can conclude that most Kaggle users have *INTJ (Introversion Intuition Thinking Judging)* type of Personality."
   ]
  }
 ],
 "metadata": {
  "kernelspec": {
   "display_name": "Python 3 (ipykernel)",
   "language": "python",
   "name": "python3"
  },
  "language_info": {
   "codemirror_mode": {
    "name": "ipython",
    "version": 3
   },
   "file_extension": ".py",
   "mimetype": "text/x-python",
   "name": "python",
   "nbconvert_exporter": "python",
   "pygments_lexer": "ipython3",
   "version": "3.10.9"
  },
  "papermill": {
   "default_parameters": {},
   "duration": 1483.610892,
   "end_time": "2022-08-15T10:03:24.688758",
   "environment_variables": {},
   "exception": null,
   "input_path": "__notebook__.ipynb",
   "output_path": "__notebook__.ipynb",
   "parameters": {},
   "start_time": "2022-08-15T09:38:41.077866",
   "version": "2.3.4"
  }
 },
 "nbformat": 4,
 "nbformat_minor": 5
}
